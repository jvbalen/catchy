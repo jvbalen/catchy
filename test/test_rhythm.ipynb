{
 "cells": [
  {
   "cell_type": "code",
   "execution_count": 6,
   "metadata": {
    "collapsed": false
   },
   "outputs": [],
   "source": [
    "from __future__ import division, print_function\n",
    "\n",
    "import sys, os\n",
    "\n",
    "import numpy as np\n",
    "import pandas as pd\n",
    "\n",
    "import matplotlib.pyplot as plt\n",
    "%matplotlib inline"
   ]
  },
  {
   "cell_type": "markdown",
   "metadata": {},
   "source": [
    "# Generate test data\n",
    "\n",
    "First, a function to generate 'straight', perfectly regular onsets over a 45-second interval."
   ]
  },
  {
   "cell_type": "code",
   "execution_count": 127,
   "metadata": {
    "collapsed": false
   },
   "outputs": [
    {
     "data": {
      "text/plain": [
       "[<matplotlib.lines.Line2D at 0x118e79c10>]"
      ]
     },
     "execution_count": 127,
     "metadata": {},
     "output_type": "execute_result"
    },
    {
     "data": {
      "image/png": "[encoded data removed]",
      "text/plain": [
       "<matplotlib.figure.Figure at 0x118c9a090>"
      ]
     },
     "metadata": {},
     "output_type": "display_data"
    }
   ],
   "source": [
    "def ons_straight(ioi=0.5, length=45, noise=0.01):\n",
    "    n = int(length / ioi)\n",
    "    ioi_straight = ioi * np.ones(n)\n",
    "    ioi_straight += noise * np.random.standard_normal(n)\n",
    "    return np.cumsum(ioi_straight), ioi_straight\n",
    "plt.plot(ons_straight()[0], '.')"
   ]
  },
  {
   "cell_type": "markdown",
   "metadata": {},
   "source": [
    "Also make a function to generate irregular onsets, starting from a list of ioi's uniformly distributed between 0 and 2 * ioi."
   ]
  },
  {
   "cell_type": "code",
   "execution_count": 128,
   "metadata": {
    "collapsed": false
   },
   "outputs": [
    {
     "data": {
      "text/plain": [
       "[<matplotlib.lines.Line2D at 0x119854990>]"
      ]
     },
     "execution_count": 128,
     "metadata": {},
     "output_type": "execute_result"
    },
    {
     "data": {
      "image/png": "[encoded data removed]",
      "text/plain": [
       "<matplotlib.figure.Figure at 0x118e9b1d0>"
      ]
     },
     "metadata": {},
     "output_type": "display_data"
    }
   ],
   "source": [
    "def ons_random(ioi=0.5, length=45):\n",
    "    ioi_random = 2 * ioi * np.random.rand(int(length / ioi))\n",
    "    return np.cumsum(ioi_random), ioi_random\n",
    "\n",
    "plt.plot(ons_random()[0], '.')"
   ]
  },
  {
   "cell_type": "markdown",
   "metadata": {},
   "source": [
    "Now we generate onset data files for the sections of 4 kinds of songs:\n",
    "1. all straight\n",
    "1. 2/3 straight\n",
    "1. 2/3 random\n",
    "1. all random"
   ]
  },
  {
   "cell_type": "code",
   "execution_count": 129,
   "metadata": {
    "collapsed": false
   },
   "outputs": [
    {
     "data": {
      "text/plain": [
       "'/Users/Jan/Documents/Work/Code/catchy/test/onsets/'"
      ]
     },
     "execution_count": 129,
     "metadata": {},
     "output_type": "execute_result"
    }
   ],
   "source": [
    "data_dir = os.path.abspath('.')\n",
    "onset_dir = data_dir + '/onsets/'\n",
    "onset_dir"
   ]
  },
  {
   "cell_type": "code",
   "execution_count": 130,
   "metadata": {
    "collapsed": false
   },
   "outputs": [],
   "source": [
    "def write_onsets(file_id, times, intervals, ext='.csv', delimiter=','):\n",
    "    path = os.path.join(onset_dir, file_id + ext)\n",
    "    data = np.array([times, intervals]).T\n",
    "    np.savetxt(path, data, delimiter=delimiter)\n",
    "    \n",
    "write_onsets('0-0', *ons_straight())\n",
    "write_onsets('0-1', *ons_straight())\n",
    "write_onsets('0-2', *ons_straight())\n",
    "\n",
    "write_onsets('1-0', *ons_straight())\n",
    "write_onsets('1-1', *ons_straight())\n",
    "write_onsets('1-2', *ons_random())\n",
    "\n",
    "write_onsets('2-0', *ons_straight())\n",
    "write_onsets('2-1', *ons_random())\n",
    "write_onsets('2-2', *ons_random())\n",
    "\n",
    "write_onsets('3-0', *ons_random())\n",
    "write_onsets('3-1', *ons_random())\n",
    "write_onsets('3-2', *ons_random())"
   ]
  },
  {
   "cell_type": "markdown",
   "metadata": {},
   "source": [
    "# Analyse"
   ]
  },
  {
   "cell_type": "code",
   "execution_count": 131,
   "metadata": {
    "collapsed": false
   },
   "outputs": [
    {
     "data": {
      "text/plain": [
       "['0-0',\n",
       " '0-1',\n",
       " '0-2',\n",
       " '1-0',\n",
       " '1-1',\n",
       " '1-2',\n",
       " '2-0',\n",
       " '2-1',\n",
       " '2-2',\n",
       " '3-0',\n",
       " '3-1',\n",
       " '3-2']"
      ]
     },
     "execution_count": 131,
     "metadata": {},
     "output_type": "execute_result"
    }
   ],
   "source": [
    "# this might not be needed if onset_dir contains only data\n",
    "# it would definitely not be needed if rhythm_features.compute_and_write knew how to ignore dirs and non-data files\n",
    "# (and it could be made easier if utils.dataset_from_dir were more flexible)\n",
    "\n",
    "track_list = [os.path.basename(f).strip('.csv') for f in os.listdir(onset_dir) if f.endswith('.csv')]\n",
    "track_list"
   ]
  },
  {
   "cell_type": "code",
   "execution_count": 132,
   "metadata": {
    "collapsed": false
   },
   "outputs": [
    {
     "data": {
      "text/plain": [
       "{'0': ['0-0', '0-1', '0-2'],\n",
       " '1': ['1-0', '1-1', '1-2'],\n",
       " '2': ['2-0', '2-1', '2-2'],\n",
       " '3': ['3-0', '3-1', '3-2']}"
      ]
     },
     "execution_count": 132,
     "metadata": {},
     "output_type": "execute_result"
    }
   ],
   "source": [
    "# this could be made easier by modifying utils.dataset_from_dir\n",
    "\n",
    "song_dict = {}\n",
    "for t in track_list:\n",
    "    s = t.split('-')[0]\n",
    "    if s in song_dict:\n",
    "        song_dict[s].append(t)\n",
    "    else:\n",
    "        song_dict[s] = [t]\n",
    "song_dict"
   ]
  },
  {
   "cell_type": "code",
   "execution_count": 133,
   "metadata": {
    "collapsed": false
   },
   "outputs": [
    {
     "name": "stdout",
     "output_type": "stream",
     "text": [
      "Computing features for track 0-0...\n",
      "Computing features for track 0-1...\n",
      "Computing features for track 0-2...\n",
      "Computing features for track 1-0...\n",
      "Computing features for track 1-1...\n",
      "Computing features for track 1-2...\n",
      "Computing features for track 2-0...\n",
      "Computing features for track 2-1...\n",
      "Computing features for track 2-2...\n",
      "Computing features for track 3-0...\n",
      "Computing features for track 3-1...\n",
      "Computing features for track 3-2...\n"
     ]
    }
   ],
   "source": [
    "sys.path.append(\"/Users/Jan/Documents/Work/Code\")\n",
    "from catchy import rhythm_features\n",
    "\n",
    "reload(rhythm_features)\n",
    "rhythm_features.onsets_dir = onset_dir\n",
    "\n",
    "features = {'ioii': (rhythm_features.ioii, {'normalize_ioi': False})}\n",
    "\n",
    "# 'tempo': (rhythm_features.local_tempo, {}),\n",
    "# 'log_norm_ioi': (rhythm_features.log_ioi, {'normalize_ioi': True}),\n",
    "# 'log_norm_ioi_hist': (rhythm_features.ioi_histogram, {'min_length': -3, 'max_length': 3, 'step': 0.5})\n",
    "\n",
    "rhythm_features.compute_and_write(data_dir, track_list=track_list, features=features)"
   ]
  },
  {
   "cell_type": "code",
   "execution_count": 134,
   "metadata": {
    "collapsed": false
   },
   "outputs": [
    {
     "name": "stdout",
     "output_type": "stream",
     "text": [
      "computing ioii.mean...\n",
      "computing ioii.mean.corpus.pdf.rank.logit...\n",
      "computing ioii.mean.song.pdf.rank.logit...\n"
     ]
    }
   ],
   "source": [
    "from catchy import feature_transforms\n",
    "\n",
    "feature_transforms.data_dir = data_dir\n",
    "\n",
    "features = [\n",
    "#     'log_norm_ioi.mean',\n",
    "#     'log_norm_ioi.mean.corpus.pdf.rank.logit',\n",
    "#     'log_norm_ioi.mean.song.pdf.rank.logit',\n",
    "#     'log_norm_ioi.std',\n",
    "#     'log_norm_ioi.std.corpus.pdf.rank.logit',\n",
    "#     'log_norm_ioi.std.song.pdf.rank.logit',\n",
    "\n",
    "#     'tempo.mean',\n",
    "#     'tempo.mean.corpus.pdf.rank.logit',\n",
    "#     'tempo.mean.song.pdf.rank.logit',\n",
    "#     'tempo.std',\n",
    "#     'tempo.std.corpus.pdf.rank.logit',\n",
    "#     'tempo.std.song.pdf.rank.logit',\n",
    "    \n",
    "#     'log_norm_ioi_hist.corpus.information',\n",
    "#     'log_norm_ioi_hist.corpus.tau',\n",
    "#     'log_norm_ioi_hist.song.information',\n",
    "#     'log_norm_ioi_hist.song.tau',\n",
    "#     'log_norm_ioi_hist.normentropy.minlog',\n",
    "#     'log_norm_ioi_hist.normentropy.minlog.corpus.pdf.rank.logit',\n",
    "#     'log_norm_ioi_hist.normentropy.minlog.song.pdf.rank.logit',\n",
    "    \n",
    "    # below should be equivalent to RPVI\n",
    "    'ioii.mean',\n",
    "    'ioii.mean.corpus.pdf.rank.logit',\n",
    "    'ioii.mean.song.pdf.rank.logit',\n",
    "]\n",
    "\n",
    "data = feature_transforms.compute(song_dict, features)"
   ]
  },
  {
   "cell_type": "code",
   "execution_count": 135,
   "metadata": {
    "collapsed": false
   },
   "outputs": [
    {
     "data": {
      "text/html": [
       "<div>\n",
       "<table border=\"1\" class=\"dataframe\">\n",
       "  <thead>\n",
       "    <tr style=\"text-align: right;\">\n",
       "      <th></th>\n",
       "      <th>ioii.mean</th>\n",
       "      <th>ioii.mean.corpus.pdf.rank.logit</th>\n",
       "      <th>ioii.mean.song.pdf.rank.logit</th>\n",
       "      <th>segment.id</th>\n",
       "      <th>song.id</th>\n",
       "    </tr>\n",
       "  </thead>\n",
       "  <tbody>\n",
       "    <tr>\n",
       "      <th>0</th>\n",
       "      <td>0.011241</td>\n",
       "      <td>1.945910</td>\n",
       "      <td>1.609438</td>\n",
       "      <td>1-0</td>\n",
       "      <td>1</td>\n",
       "    </tr>\n",
       "    <tr>\n",
       "      <th>1</th>\n",
       "      <td>0.010521</td>\n",
       "      <td>0.887303</td>\n",
       "      <td>0.000000</td>\n",
       "      <td>1-1</td>\n",
       "      <td>1</td>\n",
       "    </tr>\n",
       "    <tr>\n",
       "      <th>2</th>\n",
       "      <td>0.323614</td>\n",
       "      <td>0.167054</td>\n",
       "      <td>-1.609438</td>\n",
       "      <td>1-2</td>\n",
       "      <td>1</td>\n",
       "    </tr>\n",
       "    <tr>\n",
       "      <th>3</th>\n",
       "      <td>0.010260</td>\n",
       "      <td>0.510826</td>\n",
       "      <td>0.000000</td>\n",
       "      <td>0-0</td>\n",
       "      <td>0</td>\n",
       "    </tr>\n",
       "    <tr>\n",
       "      <th>4</th>\n",
       "      <td>0.012308</td>\n",
       "      <td>3.135494</td>\n",
       "      <td>1.609438</td>\n",
       "      <td>0-1</td>\n",
       "      <td>0</td>\n",
       "    </tr>\n",
       "    <tr>\n",
       "      <th>5</th>\n",
       "      <td>0.009087</td>\n",
       "      <td>-1.335001</td>\n",
       "      <td>-1.609438</td>\n",
       "      <td>0-2</td>\n",
       "      <td>0</td>\n",
       "    </tr>\n",
       "    <tr>\n",
       "      <th>6</th>\n",
       "      <td>0.354934</td>\n",
       "      <td>-0.167054</td>\n",
       "      <td>0.000000</td>\n",
       "      <td>3-0</td>\n",
       "      <td>3</td>\n",
       "    </tr>\n",
       "    <tr>\n",
       "      <th>7</th>\n",
       "      <td>0.318620</td>\n",
       "      <td>-0.887303</td>\n",
       "      <td>1.609438</td>\n",
       "      <td>3-1</td>\n",
       "      <td>3</td>\n",
       "    </tr>\n",
       "    <tr>\n",
       "      <th>8</th>\n",
       "      <td>0.367006</td>\n",
       "      <td>-1.945910</td>\n",
       "      <td>-1.609438</td>\n",
       "      <td>3-2</td>\n",
       "      <td>3</td>\n",
       "    </tr>\n",
       "    <tr>\n",
       "      <th>9</th>\n",
       "      <td>0.010823</td>\n",
       "      <td>1.335001</td>\n",
       "      <td>-1.609438</td>\n",
       "      <td>2-0</td>\n",
       "      <td>2</td>\n",
       "    </tr>\n",
       "    <tr>\n",
       "      <th>10</th>\n",
       "      <td>0.275469</td>\n",
       "      <td>-3.135494</td>\n",
       "      <td>1.609438</td>\n",
       "      <td>2-1</td>\n",
       "      <td>2</td>\n",
       "    </tr>\n",
       "    <tr>\n",
       "      <th>11</th>\n",
       "      <td>0.337860</td>\n",
       "      <td>-0.510826</td>\n",
       "      <td>0.000000</td>\n",
       "      <td>2-2</td>\n",
       "      <td>2</td>\n",
       "    </tr>\n",
       "  </tbody>\n",
       "</table>\n",
       "</div>"
      ],
      "text/plain": [
       "    ioii.mean  ioii.mean.corpus.pdf.rank.logit  ioii.mean.song.pdf.rank.logit  \\\n",
       "0    0.011241                         1.945910                       1.609438   \n",
       "1    0.010521                         0.887303                       0.000000   \n",
       "2    0.323614                         0.167054                      -1.609438   \n",
       "3    0.010260                         0.510826                       0.000000   \n",
       "4    0.012308                         3.135494                       1.609438   \n",
       "5    0.009087                        -1.335001                      -1.609438   \n",
       "6    0.354934                        -0.167054                       0.000000   \n",
       "7    0.318620                        -0.887303                       1.609438   \n",
       "8    0.367006                        -1.945910                      -1.609438   \n",
       "9    0.010823                         1.335001                      -1.609438   \n",
       "10   0.275469                        -3.135494                       1.609438   \n",
       "11   0.337860                        -0.510826                       0.000000   \n",
       "\n",
       "   segment.id song.id  \n",
       "0         1-0       1  \n",
       "1         1-1       1  \n",
       "2         1-2       1  \n",
       "3         0-0       0  \n",
       "4         0-1       0  \n",
       "5         0-2       0  \n",
       "6         3-0       3  \n",
       "7         3-1       3  \n",
       "8         3-2       3  \n",
       "9         2-0       2  \n",
       "10        2-1       2  \n",
       "11        2-2       2  "
      ]
     },
     "execution_count": 135,
     "metadata": {},
     "output_type": "execute_result"
    }
   ],
   "source": [
    "data"
   ]
  },
  {
   "cell_type": "markdown",
   "metadata": {},
   "source": [
    "# Check results"
   ]
  },
  {
   "cell_type": "code",
   "execution_count": 140,
   "metadata": {
    "collapsed": false
   },
   "outputs": [
    {
     "data": {
      "text/plain": [
       "<matplotlib.collections.PathCollection at 0x119d73950>"
      ]
     },
     "execution_count": 140,
     "metadata": {},
     "output_type": "execute_result"
    },
    {
     "data": {
      "image/png": "[encoded data removed]",
      "text/plain": [
       "<matplotlib.figure.Figure at 0x119cc86d0>"
      ]
     },
     "metadata": {},
     "output_type": "display_data"
    }
   ],
   "source": [
    "plt.scatter(data['ioii.mean'], data['ioii.mean.corpus.pdf.rank.logit'])"
   ]
  },
  {
   "cell_type": "code",
   "execution_count": 139,
   "metadata": {
    "collapsed": false
   },
   "outputs": [
    {
     "data": {
      "text/plain": [
       "<matplotlib.collections.PathCollection at 0x119c1b110>"
      ]
     },
     "execution_count": 139,
     "metadata": {},
     "output_type": "execute_result"
    },
    {
     "data": {
      "image/png": "[encoded data removed]",
      "text/plain": [
       "<matplotlib.figure.Figure at 0x119b94f90>"
      ]
     },
     "metadata": {},
     "output_type": "display_data"
    }
   ],
   "source": [
    "plt.scatter(data['ioii.mean'], data['ioii.mean.song.pdf.rank.logit'])"
   ]
  }
 ],
 "metadata": {
  "kernelspec": {
   "display_name": "Python 2",
   "language": "python",
   "name": "python2"
  },
  "language_info": {
   "codemirror_mode": {
    "name": "ipython",
    "version": 2
   },
   "file_extension": ".py",
   "mimetype": "text/x-python",
   "name": "python",
   "nbconvert_exporter": "python",
   "pygments_lexer": "ipython2",
   "version": "2.7.11"
  }
 },
 "nbformat": 4,
 "nbformat_minor": 0
}
