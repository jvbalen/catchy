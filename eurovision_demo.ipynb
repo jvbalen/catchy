{
 "cells": [
  {
   "cell_type": "code",
   "execution_count": 4,
   "metadata": {
    "collapsed": false,
    "scrolled": true
   },
   "outputs": [],
   "source": [
    "import os\n",
    "import numpy as np\n",
    "import pandas as pd\n",
    "import matplotlib.pyplot as plt\n",
    "%matplotlib inline\n",
    "\n",
    "import base_features\n",
    "import pitch_features\n",
    "import feature_transforms\n",
    "\n",
    "import utils"
   ]
  },
  {
   "cell_type": "code",
   "execution_count": 5,
   "metadata": {
    "collapsed": true
   },
   "outputs": [],
   "source": [
    "audio_dir = '/Users/Jan/Documents/Work/Cogitch/Audio/Eurovision/'\n",
    "data_dir = '/Users/Jan/Documents/Work/Cogitch/Data/Eurovision/'"
   ]
  },
  {
   "cell_type": "markdown",
   "metadata": {},
   "source": [
    "## Dataset"
   ]
  },
  {
   "cell_type": "code",
   "execution_count": 6,
   "metadata": {
    "collapsed": false
   },
   "outputs": [],
   "source": [
    "euro_dict = utils.dataset_from_dir(audio_dir)"
   ]
  },
  {
   "cell_type": "markdown",
   "metadata": {},
   "source": [
    "## Base features"
   ]
  },
  {
   "cell_type": "code",
   "execution_count": 7,
   "metadata": {
    "collapsed": false,
    "scrolled": true
   },
   "outputs": [],
   "source": [
    "# base_features.compute_and_write(audio_dir, data_dir)"
   ]
  },
  {
   "cell_type": "markdown",
   "metadata": {},
   "source": [
    "## Pitch Features"
   ]
  },
  {
   "cell_type": "code",
   "execution_count": 8,
   "metadata": {
    "collapsed": false,
    "scrolled": true
   },
   "outputs": [],
   "source": [
    "pitch_features.melody_dir = data_dir + 'melody/'\n",
    "pitch_features.chroma_dir = data_dir + 'hpcp/'\n",
    "\n",
    "features = {'pitchhist3': (pitch_features.get_pitchhist3, {}),\n",
    "            'pitchhist3_int': (pitch_features.get_pitchhist3, {'intervals': True}),\n",
    "            'chromahist3': (pitch_features.get_chromahist3, {}),\n",
    "            'chromahist3_int': (pitch_features.get_chromahist3, {'intervals': True}),\n",
    "            'harmonisation': (pitch_features.get_harmonisation, {}),\n",
    "            'harmonisation_int': (pitch_features.get_harmonisation, {'intervals': True}) }\n",
    "\n",
    "# pitch_features.compute_and_write(data_dir, features=features)"
   ]
  },
  {
   "cell_type": "markdown",
   "metadata": {},
   "source": [
    "## Feature Transforms"
   ]
  },
  {
   "cell_type": "code",
   "execution_count": 15,
   "metadata": {
    "collapsed": true
   },
   "outputs": [],
   "source": [
    "reload(feature_transforms);"
   ]
  },
  {
   "cell_type": "code",
   "execution_count": 16,
   "metadata": {
    "collapsed": false
   },
   "outputs": [
    {
     "name": "stdout",
     "output_type": "stream",
     "text": [
      "    harmonisation_int.corpus.information\n",
      "        second order computation (corpus): information\n",
      "    harmonisation_int.corpus.tau\n",
      "        second order computation (corpus): tau\n",
      "    harmonisation_int.song.information\n",
      "    harmonisation_int.song.tau\n",
      "    harmonisation.normentropy.minlog\n",
      "    harmonisation.normentropy.minlog.corpus.pdf.rank.logit\n",
      "        second order computation (corpus): pdf\n",
      "        second order computation (corpus): rank\n",
      "        second order computation (corpus): logit\n",
      "    harmonisation.normentropy.minlog.song.pdf.rank.logit\n",
      "    chromahist3_int.corpus.information\n",
      "        second order computation (corpus): information\n",
      "    chromahist3_int.corpus.tau\n",
      "        second order computation (corpus): tau\n",
      "    chromahist3_int.song.information\n",
      "    chromahist3_int.song.tau\n",
      "    chromahist3.normentropy.minlog\n",
      "    chromahist3.normentropy.minlog.corpus.pdf.rank.logit\n",
      "        second order computation (corpus): pdf\n",
      "        second order computation (corpus): rank\n",
      "        second order computation (corpus): logit\n",
      "    chromahist3.normentropy.minlog.song.pdf.rank.logit\n",
      "    loudness.mean\n",
      "    loudness.mean.corpus.pdf.rank.logit\n",
      "        second order computation (corpus): pdf\n",
      "        second order computation (corpus): rank\n",
      "        second order computation (corpus): logit\n",
      "    loudness.mean.song.pdf.rank.logit\n",
      "    loudness.std\n",
      "    loudness.std.corpus.pdf.rank.logit\n",
      "        second order computation (corpus): pdf\n",
      "        second order computation (corpus): rank\n",
      "        second order computation (corpus): logit\n",
      "    loudness.std.song.pdf.rank.logit\n",
      "    pitchhist3_int.corpus.information\n",
      "        second order computation (corpus): information\n",
      "    pitchhist3_int.corpus.tau\n",
      "        second order computation (corpus): tau\n",
      "    pitchhist3_int.song.information\n",
      "    pitchhist3_int.song.tau\n",
      "    pitchhist3.normentropy.minlog\n",
      "    pitchhist3.normentropy.minlog.corpus.pdf.rank.logit\n",
      "        second order computation (corpus): pdf\n",
      "        second order computation (corpus): rank\n",
      "        second order computation (corpus): logit\n",
      "    pitchhist3.normentropy.minlog.song.pdf.rank.logit\n",
      "    mfcc.mean.corpus.indeppdf.rank.logit\n",
      "        second order computation (corpus): indeppdf\n",
      "        second order computation (corpus): rank\n",
      "        second order computation (corpus): logit\n",
      "    mfcc.mean.song.indeppdf.rank.logit\n",
      "    mfcc.totvar.log\n",
      "    mfcc.totvar.log.corpus.pdf.rank.logit\n",
      "        second order computation (corpus): pdf\n",
      "        second order computation (corpus): rank\n",
      "        second order computation (corpus): logit\n",
      "    mfcc.totvar.log.song.pdf.rank.logit\n",
      "    melody.mean\n",
      "    melody.mean.corpus.pdf.rank.logit\n",
      "        second order computation (corpus): pdf\n",
      "        second order computation (corpus): rank\n",
      "        second order computation (corpus): logit\n",
      "    melody.mean.song.pdf.rank.logit\n",
      "    melody.std.log\n",
      "    melody.std.log.corpus.pdf.rank.logit\n",
      "        second order computation (corpus): pdf\n",
      "        second order computation (corpus): rank\n",
      "        second order computation (corpus): logit\n",
      "    melody.std.log.song.pdf.rank.logit\n",
      "    roughness.mean.log\n",
      "    roughness.mean.log.corpus.pdf.rank.logit\n",
      "        second order computation (corpus): pdf\n",
      "        second order computation (corpus): rank\n",
      "        second order computation (corpus): logit\n",
      "    roughness.mean.log.song.pdf.rank.logit\n",
      "    sharpness.mean\n",
      "    sharpness.mean.corpus.pdf.rank.logit\n",
      "        second order computation (corpus): pdf\n",
      "        second order computation (corpus): rank\n",
      "        second order computation (corpus): logit\n",
      "    sharpness.mean.song.pdf.rank.logit\n"
     ]
    }
   ],
   "source": [
    "feature_transforms.data_dir = data_dir\n",
    "\n",
    "features = ['harmonisation_int.corpus.information',\n",
    "'harmonisation_int.corpus.tau',\n",
    "'harmonisation_int.song.information',\n",
    "'harmonisation_int.song.tau',\n",
    "'harmonisation.normentropy.minlog',\n",
    "'harmonisation.normentropy.minlog.corpus.pdf.rank.logit',\n",
    "'harmonisation.normentropy.minlog.song.pdf.rank.logit',\n",
    "'chromahist3_int.corpus.information',\n",
    "'chromahist3_int.corpus.tau',\n",
    "'chromahist3_int.song.information',\n",
    "'chromahist3_int.song.tau',\n",
    "'chromahist3.normentropy.minlog',\n",
    "'chromahist3.normentropy.minlog.corpus.pdf.rank.logit',\n",
    "'chromahist3.normentropy.minlog.song.pdf.rank.logit',\n",
    "'loudness.mean',\n",
    "'loudness.mean.corpus.pdf.rank.logit',\n",
    "'loudness.mean.song.pdf.rank.logit',\n",
    "'loudness.std',\n",
    "'loudness.std.corpus.pdf.rank.logit',\n",
    "'loudness.std.song.pdf.rank.logit',\n",
    "'pitchhist3_int.corpus.information',\n",
    "'pitchhist3_int.corpus.tau',\n",
    "'pitchhist3_int.song.information',\n",
    "'pitchhist3_int.song.tau',\n",
    "'pitchhist3.normentropy.minlog',\n",
    "'pitchhist3.normentropy.minlog.corpus.pdf.rank.logit',\n",
    "'pitchhist3.normentropy.minlog.song.pdf.rank.logit',\n",
    "'mfcc.mean.corpus.indeppdf.rank.logit',\n",
    "'mfcc.mean.song.indeppdf.rank.logit',\n",
    "'mfcc.totvar.log',\n",
    "'mfcc.totvar.log.corpus.pdf.rank.logit',\n",
    "'mfcc.totvar.log.song.pdf.rank.logit',\n",
    "'melody.mean',\n",
    "'melody.mean.corpus.pdf.rank.logit',\n",
    "'melody.mean.song.pdf.rank.logit',\n",
    "'melody.std.log',\n",
    "'melody.std.log.corpus.pdf.rank.logit',\n",
    "'melody.std.log.song.pdf.rank.logit',\n",
    "'roughness.mean.log',\n",
    "'roughness.mean.log.corpus.pdf.rank.logit',\n",
    "'roughness.mean.log.song.pdf.rank.logit',\n",
    "'sharpness.mean',\n",
    "'sharpness.mean.corpus.pdf.rank.logit',\n",
    "'sharpness.mean.song.pdf.rank.logit']\n",
    "\n",
    "data = feature_transforms.compute(euro_dict, features)"
   ]
  },
  {
   "cell_type": "code",
   "execution_count": 28,
   "metadata": {
    "collapsed": false,
    "scrolled": false
   },
   "outputs": [],
   "source": [
    "# data.hist(figsize=(28,21));"
   ]
  },
  {
   "cell_type": "code",
   "execution_count": 22,
   "metadata": {
    "collapsed": true
   },
   "outputs": [],
   "source": [
    "data.to_csv('euro_features.csv', index=None)"
   ]
  }
 ],
 "metadata": {
  "kernelspec": {
   "display_name": "Python 2",
   "language": "python",
   "name": "python2"
  }
 },
 "nbformat": 4,
 "nbformat_minor": 0
}
